{
 "cells": [
  {
   "cell_type": "markdown",
   "metadata": {},
   "source": [
    "- normalerweise wird ein baseline model erstellt, um zu sehen, wie gut das Modell ist\n",
    "- wenn ich eval aufrufe, dann werden nicht wie in der Prediction function die predictions in den dataframe mit eingebacken. Muss ich noch nachholen\n",
    "- data is totaly skewed, so check why tweedie loss not working? + mention in report\n",
    "- checken was in midterm report geschrieben\n",
    "- grid search\n",
    "- erfolgt normalisirung von Sales_amount auf eine Sinnvolle größe? Nicht, dass zu viele unterschiedliche tiems zusammen genommen werden und dann plötzlich normalisierte Werte zu klein sind\n",
    "- checken, ob embedding size deutlich kleiner ist als die Anzahl der Kategorien\n",
    "- ggf. 2 embeddings für events (events zusammenfassen)\n",
    "- Cross validation\n",
    "- lambda irgendwo nutzen\n",
    "- TPU nutzen und direkt aufrufen\n",
    "- mutiprocessing\n",
    "- use tensorflow dataset\n",
    "- ConvLSTM1D layer: https://keras.io/api/layers/recurrent_layers/conv_lstm1d/\n",
    "- https://www.kaggle.com/code/li325040229/eda-and-an-encoder-decoder-lstm-with-9-features/notebook#Build-a-LSTM-Model-\n",
    "- Wie zum laufen bekommen?:\n",
    "-   <b>Encoder-Decoder Model</b> --> https://www.kaggle.com/competitions/m5-forecasting-accuracy/discussion/144243\n",
    "-   https://www.kaggle.com/competitions/m5-forecasting-accuracy/discussion/144243 --> 30490 als batch input nutzen, dann aber Problem, dass scheinbar nur Abhängigkeiten von einem auf den anderen Tag getrackt werden und keine Muster zwischen Zeitsequenzen gefunden werden können\n",
    "- Herangehensweise:\n",
    "    - Develop one model per site.\n",
    "    -  Develop one model per group of sites.\n",
    "    -  Develop one model for all sites.\n",
    "- Progress bars mit tqdm anzeigen\n",
    "- Test, Validierung und Trainingzeitraum sollten sich nicht überlappen, ist aber ggf. der Fall?\n",
    "- column 'd' in training df löschen?\n",
    "- paralletl computing einstellen\n",
    "- use_multiprocessing in keras auf true setzen (model.fit agument)\n",
    "- Cross validation?\n",
    "- Ensemble learning?\n",
    "- Things to consider:\n",
    "- dropout\n",
    "- seed\n",
    "- learning rate\n",
    "- loss function\n",
    "- optimizer\n",
    "- metrics\n",
    "- batch size\n",
    "- epochs\n",
    "- Add CNN layer\n",
    "- model.add(Conv1D(filters=64, kernel_size=3, activation='relu', input_shape=(DAYS_PER_SEQUENCE, num_features)))\n",
    "- model.add(MaxPooling1D(pool_size=2))\n",
    "- model.add(Flatten())\n",
    "- model.add(LSTM(50, activation='relu'))\n",
    "- model.add(Dense(1)) / or more layers as needed\n",
    "- model.compile()"
   ]
  },
  {
   "cell_type": "code",
   "execution_count": 1,
   "metadata": {},
   "outputs": [],
   "source": [
    "import matplotlib.pyplot as plt\n",
    "from tensorflow.keras.models import load_model"
   ]
  },
  {
   "cell_type": "code",
   "execution_count": 2,
   "metadata": {},
   "outputs": [
    {
     "name": "stdout",
     "output_type": "stream",
     "text": [
      "Overwriting helper_functions.py\n"
     ]
    }
   ],
   "source": [
    "%%writefile helper_functions.py\n",
    "def test_fun(text):\n",
    "    print(text)\n",
    "\n",
    "def plot_history(history):\n",
    "    try:\n",
    "        # Plot training & validation loss values\n",
    "        plt.plot(history.history['loss'])\n",
    "        plt.plot(history.history['val_loss'])\n",
    "        plt.title('Model loss')\n",
    "        plt.ylabel('Loss')\n",
    "        plt.xlabel('Epoch')\n",
    "        plt.legend(['Train', 'Validation'], loc='upper left')\n",
    "        plt.show()\n",
    "    except:\n",
    "        print('No history to plot')\n",
    "\n",
    "\n",
    "def save_model(model, model_name, src_dir):\n",
    "    # Save the model to a specified directory\n",
    "    if CODE_ENV=='local':\n",
    "        model.save(src_dir + 'models/' + model_name + '.h5')\n",
    "        \n",
    "    if CODE_ENV=='kaggle':\n",
    "        model.save('/kaggle/working/' + model_name + '.h5')\n",
    "\n",
    "    if CODE_ENV=='aws':\n",
    "        model.save(src_dir + 'models/' + model_name + '.h5')\n",
    "\n",
    "\n",
    "def load_model(model_name, src_dir):\n",
    "    # Start from here if you want to load the model\n",
    "    # Load the model from a specified directory\n",
    "    if CODE_ENV=='local':\n",
    "        model = load_model(src_dir + 'models/' + model_name + '.h5', custom_objects={'rmse': rmse})\n",
    "\n",
    "    if CODE_ENV=='kaggle':\n",
    "        model = load_model('/kaggle/input/v1-model/' + model_name + '.h5', custom_objects={'rmse': rmse})\n",
    "\n",
    "    if CODE_ENV=='aws':\n",
    "        model = load_model(src_dir + 'models/' + model_name + '.h5', custom_objects={'rmse': rmse})\n",
    "\n",
    "    return model"
   ]
  }
 ],
 "metadata": {
  "kernelspec": {
   "display_name": "final_bsc",
   "language": "python",
   "name": "python3"
  },
  "language_info": {
   "codemirror_mode": {
    "name": "ipython",
    "version": 3
   },
   "file_extension": ".py",
   "mimetype": "text/x-python",
   "name": "python",
   "nbconvert_exporter": "python",
   "pygments_lexer": "ipython3",
   "version": "3.11.0"
  }
 },
 "nbformat": 4,
 "nbformat_minor": 2
}
