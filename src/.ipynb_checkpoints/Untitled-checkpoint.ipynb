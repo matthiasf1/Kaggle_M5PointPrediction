{
 "cells": [
  {
   "cell_type": "markdown",
   "id": "36c91561",
   "metadata": {},
   "source": [
    "Final Assignement"
   ]
  },
  {
   "cell_type": "code",
   "execution_count": null,
   "id": "22cebeb6",
   "metadata": {},
   "outputs": [],
   "source": []
  }
 ],
 "metadata": {
  "kernelspec": {
   "display_name": "final_bsc",
   "language": "python",
   "name": "final_bsc"
  },
  "language_info": {
   "codemirror_mode": {
    "name": "ipython",
    "version": 3
   },
   "file_extension": ".py",
   "mimetype": "text/x-python",
   "name": "python",
   "nbconvert_exporter": "python",
   "pygments_lexer": "ipython3",
   "version": "3.11.0"
  }
 },
 "nbformat": 4,
 "nbformat_minor": 5
}
