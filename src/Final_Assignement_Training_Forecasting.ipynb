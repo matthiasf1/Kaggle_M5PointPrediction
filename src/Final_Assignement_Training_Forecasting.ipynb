{
 "cells": [
  {
   "cell_type": "markdown",
   "metadata": {},
   "source": [
    "- Ggf. zu float16 konvertieren checken, ob finaler df mit time slices dann deutlich kleiner und performance testen\n",
    "- Cross validation?\n",
    "- Ensemble learning?"
   ]
  },
  {
   "cell_type": "code",
   "execution_count": 1,
   "metadata": {},
   "outputs": [],
   "source": [
    "#Import data handling libraries\n",
    "import pandas as pd\n",
    "import numpy as np"
   ]
  },
  {
   "cell_type": "code",
   "execution_count": 2,
   "metadata": {},
   "outputs": [
    {
     "name": "stdout",
     "output_type": "stream",
     "text": [
      "Parent directory of current notebook: /Users/mf/Desktop/CS/Studies/7_Final_Project/Kaggle_M5PointPrediction\n",
      "Resource directory: /Users/mf/Desktop/CS/Studies/7_Final_Project/Kaggle_M5PointPrediction/res/\n"
     ]
    }
   ],
   "source": [
    "#Specify directories\n",
    "\n",
    "###local###\n",
    "#get parent folder of current directory\n",
    "parent_dir = '/Users/mf/Desktop/CS/Studies/7_Final_Project/Kaggle_M5PointPrediction'\n",
    "\n",
    "#Directory resources\n",
    "res_dir = parent_dir + '/res/'\n",
    "src_dir = parent_dir + '/src/'\n",
    "prc_dir = src_dir + 'processed_data/' # Processed data directory with pickled dataframes\n",
    "\n",
    "###On Kaggle###\n",
    "#res_dir = '/kaggle/input/m5-forecasting-accuracy/'\n",
    "# ?? src_dir = '/kaggle/input/m5-forecasting-accuracy/src/'\n",
    "\n",
    "\n",
    "print('Parent directory of current notebook: ' + parent_dir)\n",
    "print('Resource directory: ' + res_dir)"
   ]
  },
  {
   "cell_type": "code",
   "execution_count": 3,
   "metadata": {},
   "outputs": [],
   "source": [
    "# Create variables\n",
    "BASE     = prc_dir +'df_1.pkl'\n",
    "CALENDAR = prc_dir +'df_2.pkl'"
   ]
  },
  {
   "cell_type": "code",
   "execution_count": 4,
   "metadata": {},
   "outputs": [],
   "source": [
    "# Read in df_train_conv from pickle file\n",
    "df_all_data = pd.concat([pd.read_pickle(BASE),\n",
    "           pd.read_pickle(CALENDAR)], \n",
    "           axis=1)"
   ]
  },
  {
   "cell_type": "code",
   "execution_count": 5,
   "metadata": {},
   "outputs": [],
   "source": [
    "# Splitting the data\n",
    "TRAIN_END = 1913 - 28 # Train only until the 28 days before the end of the data\n",
    "VAL_END = 1913\n",
    "\n",
    "df_train = df_all_data[df_all_data['d'] <= TRAIN_END]\n",
    "df_val = df_all_data[(df_all_data['d'] > TRAIN_END) & (df_all_data['d'] <= VAL_END)]\n",
    "df_test = df_all_data[df_all_data['d'] > VAL_END]"
   ]
  },
  {
   "cell_type": "code",
   "execution_count": 6,
   "metadata": {},
   "outputs": [],
   "source": [
    "from sklearn.preprocessing import MinMaxScaler\n",
    "from keras.models import Model\n",
    "from keras.layers import Input, LSTM, Dense\n",
    "from keras.optimizers import Adam"
   ]
  },
  {
   "cell_type": "code",
   "execution_count": 7,
   "metadata": {},
   "outputs": [
    {
     "name": "stderr",
     "output_type": "stream",
     "text": [
      "/var/folders/w1/_96k6h412s5d15f14hdtbbyc0000gn/T/ipykernel_48660/4075745869.py:11: SettingWithCopyWarning: \n",
      "A value is trying to be set on a copy of a slice from a DataFrame.\n",
      "Try using .loc[row_indexer,col_indexer] = value instead\n",
      "\n",
      "See the caveats in the documentation: https://pandas.pydata.org/pandas-docs/stable/user_guide/indexing.html#returning-a-view-versus-a-copy\n",
      "  df_train[col] = df_train[col].astype('category').cat.codes\n",
      "/var/folders/w1/_96k6h412s5d15f14hdtbbyc0000gn/T/ipykernel_48660/4075745869.py:11: SettingWithCopyWarning: \n",
      "A value is trying to be set on a copy of a slice from a DataFrame.\n",
      "Try using .loc[row_indexer,col_indexer] = value instead\n",
      "\n",
      "See the caveats in the documentation: https://pandas.pydata.org/pandas-docs/stable/user_guide/indexing.html#returning-a-view-versus-a-copy\n",
      "  df_train[col] = df_train[col].astype('category').cat.codes\n",
      "/var/folders/w1/_96k6h412s5d15f14hdtbbyc0000gn/T/ipykernel_48660/4075745869.py:11: SettingWithCopyWarning: \n",
      "A value is trying to be set on a copy of a slice from a DataFrame.\n",
      "Try using .loc[row_indexer,col_indexer] = value instead\n",
      "\n",
      "See the caveats in the documentation: https://pandas.pydata.org/pandas-docs/stable/user_guide/indexing.html#returning-a-view-versus-a-copy\n",
      "  df_train[col] = df_train[col].astype('category').cat.codes\n",
      "/var/folders/w1/_96k6h412s5d15f14hdtbbyc0000gn/T/ipykernel_48660/4075745869.py:11: SettingWithCopyWarning: \n",
      "A value is trying to be set on a copy of a slice from a DataFrame.\n",
      "Try using .loc[row_indexer,col_indexer] = value instead\n",
      "\n",
      "See the caveats in the documentation: https://pandas.pydata.org/pandas-docs/stable/user_guide/indexing.html#returning-a-view-versus-a-copy\n",
      "  df_train[col] = df_train[col].astype('category').cat.codes\n",
      "/var/folders/w1/_96k6h412s5d15f14hdtbbyc0000gn/T/ipykernel_48660/4075745869.py:11: SettingWithCopyWarning: \n",
      "A value is trying to be set on a copy of a slice from a DataFrame.\n",
      "Try using .loc[row_indexer,col_indexer] = value instead\n",
      "\n",
      "See the caveats in the documentation: https://pandas.pydata.org/pandas-docs/stable/user_guide/indexing.html#returning-a-view-versus-a-copy\n",
      "  df_train[col] = df_train[col].astype('category').cat.codes\n",
      "/var/folders/w1/_96k6h412s5d15f14hdtbbyc0000gn/T/ipykernel_48660/4075745869.py:11: SettingWithCopyWarning: \n",
      "A value is trying to be set on a copy of a slice from a DataFrame.\n",
      "Try using .loc[row_indexer,col_indexer] = value instead\n",
      "\n",
      "See the caveats in the documentation: https://pandas.pydata.org/pandas-docs/stable/user_guide/indexing.html#returning-a-view-versus-a-copy\n",
      "  df_train[col] = df_train[col].astype('category').cat.codes\n",
      "/var/folders/w1/_96k6h412s5d15f14hdtbbyc0000gn/T/ipykernel_48660/4075745869.py:11: SettingWithCopyWarning: \n",
      "A value is trying to be set on a copy of a slice from a DataFrame.\n",
      "Try using .loc[row_indexer,col_indexer] = value instead\n",
      "\n",
      "See the caveats in the documentation: https://pandas.pydata.org/pandas-docs/stable/user_guide/indexing.html#returning-a-view-versus-a-copy\n",
      "  df_train[col] = df_train[col].astype('category').cat.codes\n",
      "/var/folders/w1/_96k6h412s5d15f14hdtbbyc0000gn/T/ipykernel_48660/4075745869.py:11: SettingWithCopyWarning: \n",
      "A value is trying to be set on a copy of a slice from a DataFrame.\n",
      "Try using .loc[row_indexer,col_indexer] = value instead\n",
      "\n",
      "See the caveats in the documentation: https://pandas.pydata.org/pandas-docs/stable/user_guide/indexing.html#returning-a-view-versus-a-copy\n",
      "  df_train[col] = df_train[col].astype('category').cat.codes\n",
      "/var/folders/w1/_96k6h412s5d15f14hdtbbyc0000gn/T/ipykernel_48660/4075745869.py:11: SettingWithCopyWarning: \n",
      "A value is trying to be set on a copy of a slice from a DataFrame.\n",
      "Try using .loc[row_indexer,col_indexer] = value instead\n",
      "\n",
      "See the caveats in the documentation: https://pandas.pydata.org/pandas-docs/stable/user_guide/indexing.html#returning-a-view-versus-a-copy\n",
      "  df_train[col] = df_train[col].astype('category').cat.codes\n",
      "/var/folders/w1/_96k6h412s5d15f14hdtbbyc0000gn/T/ipykernel_48660/4075745869.py:15: SettingWithCopyWarning: \n",
      "A value is trying to be set on a copy of a slice from a DataFrame.\n",
      "Try using .loc[row_indexer,col_indexer] = value instead\n",
      "\n",
      "See the caveats in the documentation: https://pandas.pydata.org/pandas-docs/stable/user_guide/indexing.html#returning-a-view-versus-a-copy\n",
      "  df_train[numerical_cols] = scaler.fit_transform(df_train[numerical_cols].astype(np.float32))\n"
     ]
    }
   ],
   "source": [
    "# Define categorical and numerical columns\n",
    "categorical_cols = ['item_id', 'dept_id', 'cat_id', 'store_id', 'state_id', 'wday', \n",
    "                    'event_name_1', 'event_type_1', 'event_name_2', 'event_type_2', \n",
    "                    'snap_CA', 'snap_TX', 'snap_WI', 'mday', 'week', 'month', 'year']\n",
    "numerical_cols = ['sell_price']\n",
    "\n",
    "target_col = 'sales_amount'\n",
    "\n",
    "# Convert categorical columns to category dtype and encode with cat.codes\n",
    "for col in categorical_cols:\n",
    "    df_train[col] = df_train[col].astype('category').cat.codes\n",
    "\n",
    "# Normalize numerical columns\n",
    "scaler = MinMaxScaler()\n",
    "df_train[numerical_cols] = scaler.fit_transform(df_train[numerical_cols].astype(np.float32))\n",
    "\n",
    "# LSTM Data Preparation\n",
    "time_steps = 7  # Number of time steps (can be tuned)\n",
    "batch_size = 32  # Batch size for the generator\n"
   ]
  },
  {
   "cell_type": "code",
   "execution_count": 8,
   "metadata": {},
   "outputs": [],
   "source": [
    "# Custom RMSE loss function\n",
    "def rmse(y_true, y_pred):\n",
    "    return K.sqrt(K.mean(K.square(y_pred - y_true)))"
   ]
  },
  {
   "cell_type": "code",
   "execution_count": null,
   "metadata": {},
   "outputs": [],
   "source": [
    "def create_sequences(df, target, time_steps=1):\n",
    "    X, y = [], []\n",
    "    for i in range(len(df) - time_steps):\n",
    "        X.append(df.iloc[i:(i + time_steps), :-1].values)\n",
    "        y.append(df.iloc[i + time_steps][target])\n",
    "    return np.array(X), np.array(y)\n",
    "\n",
    "# Create sequences\n",
    "X_train, y_train = create_sequences(df_train, target_col, time_steps=time_steps)"
   ]
  },
  {
   "cell_type": "code",
   "execution_count": null,
   "metadata": {},
   "outputs": [],
   "source": []
  },
  {
   "cell_type": "code",
   "execution_count": null,
   "metadata": {},
   "outputs": [],
   "source": []
  },
  {
   "cell_type": "code",
   "execution_count": null,
   "metadata": {},
   "outputs": [],
   "source": []
  },
  {
   "cell_type": "code",
   "execution_count": null,
   "metadata": {},
   "outputs": [],
   "source": []
  },
  {
   "cell_type": "code",
   "execution_count": null,
   "metadata": {},
   "outputs": [],
   "source": []
  },
  {
   "cell_type": "code",
   "execution_count": null,
   "metadata": {},
   "outputs": [],
   "source": []
  },
  {
   "cell_type": "code",
   "execution_count": null,
   "metadata": {},
   "outputs": [],
   "source": []
  },
  {
   "cell_type": "code",
   "execution_count": null,
   "metadata": {},
   "outputs": [],
   "source": []
  },
  {
   "cell_type": "code",
   "execution_count": null,
   "metadata": {},
   "outputs": [],
   "source": []
  },
  {
   "cell_type": "code",
   "execution_count": null,
   "metadata": {},
   "outputs": [],
   "source": []
  },
  {
   "cell_type": "code",
   "execution_count": null,
   "metadata": {},
   "outputs": [],
   "source": []
  },
  {
   "cell_type": "code",
   "execution_count": null,
   "metadata": {},
   "outputs": [],
   "source": []
  },
  {
   "cell_type": "code",
   "execution_count": null,
   "metadata": {},
   "outputs": [],
   "source": []
  }
 ],
 "metadata": {
  "kernelspec": {
   "display_name": "final_bsc",
   "language": "python",
   "name": "python3"
  },
  "language_info": {
   "codemirror_mode": {
    "name": "ipython",
    "version": 3
   },
   "file_extension": ".py",
   "mimetype": "text/x-python",
   "name": "python",
   "nbconvert_exporter": "python",
   "pygments_lexer": "ipython3",
   "version": "3.11.0"
  }
 },
 "nbformat": 4,
 "nbformat_minor": 2
}
